{
 "cells": [
  {
   "cell_type": "code",
   "execution_count": 1,
   "metadata": {},
   "outputs": [],
   "source": [
    "import numpy as np\n",
    "import matplotlib.pyplot as plt\n",
    "import pandas as pd\n",
    "import utils"
   ]
  },
  {
   "cell_type": "code",
   "execution_count": 2,
   "metadata": {},
   "outputs": [],
   "source": [
    "def load_data():\n",
    "    \"\"\"\n",
    "    Load the MNIST dataset. Reads the training and testing files and create matrices.\n",
    "    :Expected return:\n",
    "    train_data:the matrix with the training data\n",
    "    test_data: the matrix with the data that will be used for testing\n",
    "    y_train: the matrix consisting of one \n",
    "                        hot vectors on each row(ground truth for training)\n",
    "    y_test: the matrix consisting of one\n",
    "                        hot vectors on each row(ground truth for testing)\n",
    "    \"\"\"\n",
    "    \n",
    "    #load the train files\n",
    "    df = None\n",
    "    \n",
    "    y_train = []\n",
    "\n",
    "    for i in range( 10 ):\n",
    "        tmp = pd.read_csv( 'data/mnist/train%d.txt' % i, header=None, sep=\" \" )\n",
    "        #build labels - one hot vector\n",
    "        hot_vector = [ 1 if j == i else 0 for j in range(0,10) ]\n",
    "        \n",
    "        for j in range( tmp.shape[0] ):\n",
    "            y_train.append( hot_vector )\n",
    "        #concatenate dataframes by rows    \n",
    "        if i == 0:\n",
    "            df = tmp\n",
    "        else:\n",
    "            df = pd.concat( [df, tmp] )\n",
    "\n",
    "    train_data = df.values\n",
    "    y_train = np.array( y_train )\n",
    "    \n",
    "    #load test files\n",
    "    df = None\n",
    "    \n",
    "    y_test = []\n",
    "\n",
    "    for i in range( 10 ):\n",
    "        tmp = pd.read_csv( 'data/mnist/test%d.txt' % i, header=None, sep=\" \" )\n",
    "        #build labels - one hot vector\n",
    "        \n",
    "        hot_vector = [ 1 if j == i else 0 for j in range(0,10) ]\n",
    "        \n",
    "        for j in range( tmp.shape[0] ):\n",
    "            y_test.append( hot_vector )\n",
    "        #concatenate dataframes by rows    \n",
    "        if i == 0:\n",
    "            df = tmp\n",
    "        else:\n",
    "            df = pd.concat( [df, tmp] )\n",
    "\n",
    "    test_data = df.values\n",
    "    y_test = np.array( y_test )\n",
    "    \n",
    "    return train_data, test_data, y_train, y_test"
   ]
  },
  {
   "cell_type": "code",
   "execution_count": 3,
   "metadata": {},
   "outputs": [],
   "source": [
    "#use by default ax=1, when the array is 2D\n",
    "#use ax=0 when the array is 1D\n",
    "def softmax( x, ax=1 ):\n",
    "\n",
    "    m = np.max( x, axis=ax, keepdims=True )#max per row\n",
    "    p = np.exp( x - m )\n",
    "    return ( p / np.sum(p,axis=ax,keepdims=True) )"
   ]
  },
  {
   "cell_type": "code",
   "execution_count": 13,
   "metadata": {},
   "outputs": [],
   "source": [
    "class oneLayerMLP:\n",
    "    \n",
    "    def __init__(self, hiddenUnits , activationFunction):\n",
    "        self.M = hiddenUnits\n",
    "        self.h , self.hDeriv = self.getFunctions(activationFunction)\n",
    "    \n",
    "    def train(self,X,t,l,learningRate,batchSize,K,epochs):\n",
    "        self.X =  np.hstack(( np.ones((X.shape[0],1)) , X ))    #adding the bias unit\n",
    "        self.t = t\n",
    "        self.l = l\n",
    "        self.batchSize = batchSize\n",
    "        self.K = K\n",
    "#         self.w1 = np.ones((self.M,self.X.shape[1]))\n",
    "#         self.w2 = np.ones((K,self.M+1)) \n",
    "        self.w1 = np.random.uniform( -np.sqrt(2/self.M) ,np.sqrt(2/self.M)  , (self.M,self.X.shape[1])) \n",
    "        self.w2 = np.random.uniform(-np.sqrt(2/K)  ,np.sqrt(2/K)  , (K,self.M+1)) \n",
    "        self.epochs = epochs\n",
    "        self.costs = []\n",
    "        \n",
    "        batchesList = self.createMiniBatches()\n",
    "\n",
    "        for e in range(epochs):\n",
    "            epochCost = []\n",
    "            for batchX , batchT in batchesList:\n",
    "                a , dW1 , dW2 = self.SGD(batchX,batchT,learningRate)\n",
    "                self.w1 =self.w1 + learningRate*dW1\n",
    "                self.w2 = self.w2 + learningRate*dW2\n",
    "                epochCost.append(a)\n",
    "            self.costs.append( sum(epochCost)/self.batchSize )\n",
    "    \n",
    "    def SGD(self,batchX,batchT,learningRate):\n",
    "        z,y = self.predict(batchX,addBias = False)\n",
    "        Error = np.sum(np.log(y)*batchT) - (self.l/2) * ( np.sum( np.square( self.w1 ) ) -  np.sum( np.square( self.w2 ) ))    \n",
    "        loss = (batchT - y)\n",
    "        dW1 = ( loss.dot(self.w2[:,1:]) * self.hDeriv(batchX.dot(self.w1.T)) ).T.dot(batchX)  - self.l*self.w1\n",
    "        dW2 = loss.T.dot(z) - self.l*self.w2\n",
    "        \n",
    "        return Error , dW1 ,dW2\n",
    "    \n",
    "    def predict(self,batchX , addBias=True ):\n",
    "        if addBias:\n",
    "            batchX =  np.hstack(( np.ones((batchX.shape[0],1)) , batchX ))  \n",
    "\n",
    "        z = self.h( batchX.dot(self.w1.T))\n",
    "        z = np.hstack(( np.ones((z.shape[0],1)) , z ))    #adding the bias unit\n",
    "        y = softmax(z.dot(self.w2.T))\n",
    "\n",
    "        return z,y\n",
    "    \n",
    "    def getFunctions(self,activationFunction):\n",
    "        if activationFunction==\"softplus\":\n",
    "            return lambda x: np.log(1+np.exp(x)) , lambda x: 1/(1+np.exp(-x))\n",
    "        elif activationFunction==\"tanh\": \n",
    "            return lambda x: (np.exp(x)-np.exp(-x))/(np.exp(x)+np.exp(-x)) , lambda x: 1 - ((np.exp(x)-np.exp(-x))/(np.exp(x)+np.exp(-x)))**2        \n",
    "        elif activationFunction==\"cos\":\n",
    "            return lambda x: np.cos(x) , lambda x: -np.sin(x)       \n",
    "        else:\n",
    "            print(\"Wrong code\")\n",
    "            return lambda x: 0  \n",
    "        \n",
    "        \n",
    "    def createMiniBatches(self):\n",
    "        stacked = np.hstack((self.X , self.t ))\n",
    "#         np.random.shuffle(stacked)  \n",
    "        batchesList = []\n",
    "        i=0\n",
    "        while i<stacked.shape[0]:\n",
    "            if (i+self.batchSize<stacked.shape[0]):\n",
    "                batchesList.append(stacked[i:i+self.batchSize])\n",
    "            else:\n",
    "                batchesList.append( stacked[i:])\n",
    "                \n",
    "            i+=self.batchSize\n",
    "        \n",
    "        batchesList = [ [ batch[:,:-self.K] , batch[:,-self.K:] ]  for batch in batchesList  ]\n",
    "        return batchesList\n",
    "    \n",
    "    \n",
    "    def gradcheck_softmax(self):\n",
    "\n",
    "        epsilon = 1e-6\n",
    "\n",
    "        _list = np.random.randint(X.shape[0], size=5)\n",
    "        x_sample = np.array(self.X[_list, 0:100])\n",
    "        t_sample = np.array(self.t[_list, 0:100])\n",
    "        Ew, dW1 , dW2 = self.SGD(x_sample, t_sample, self.l)\n",
    "        num_dW1 = np.zeros(dW1.shape)\n",
    "        num_dW2 = np.zeros(dW2.shape)\n",
    "        old_W1 = np.copy(self.w1)\n",
    "        old_W2 = np.copy(self.w2)\n",
    "\n",
    "        # Compute all numerical gradient estimates and store them in\n",
    "        # the matrix numericalGrad\n",
    "        for k in range(num_dW1.shape[0]):\n",
    "            for d in range(num_dW1.shape[1]):\n",
    "                #add epsilon to the w[k,d]\n",
    "                self.w1 = np.copy(old_W1)\n",
    "                self.w1[k, d] += epsilon\n",
    "                e_plus, _ , _ = self.SGD(x_sample, t_sample, self.l)\n",
    "\n",
    "                #subtract epsilon to the w[k,d]\n",
    "                self.w1 = np.copy(old_W1)\n",
    "                self.w1[k, d] -= epsilon\n",
    "                e_minus, _ , _ = self.SGD(x_sample, t_sample, self.l)\n",
    "\n",
    "                #approximate gradient ( E[ w[k,d] + theta ] - E[ w[k,d] - theta ] ) / 2*e\n",
    "                num_dW1[k, d] = (e_plus - e_minus) / (2 * epsilon)\n",
    "                            \n",
    "        self.w1 = np.copy(old_W1)\n",
    "        for k in range(num_dW2.shape[0]):\n",
    "            for d in range(num_dW2.shape[1]):\n",
    "\n",
    "                #add epsilon to the w[k,d]\n",
    "                self.w2 = np.copy(old_W2)\n",
    "                self.w2[k, d] += epsilon\n",
    "                e_plus, _ , _ = self.SGD(x_sample, t_sample, self.l)\n",
    "\n",
    "                #subtract epsilon to the w[k,d]\n",
    "                self.w2 = np.copy(old_W2)\n",
    "                self.w2[k, d] -= epsilon\n",
    "                e_minus, _ , _ = self.SGD(x_sample, t_sample, self.l)\n",
    "\n",
    "                #approximate gradient ( E[ w[k,d] + theta ] - E[ w[k,d] - theta ] ) / 2*e\n",
    "                num_dW2[k, d] = (e_plus - e_minus) / (2 * epsilon)\n",
    "            \n",
    "            self.w2 = np.copy(old_W2)\n",
    "        return ( dW1, num_dW1 , dW2 , num_dW2 )"
   ]
  },
  {
   "cell_type": "code",
   "execution_count": 14,
   "metadata": {
    "scrolled": false
   },
   "outputs": [
    {
     "data": {
      "text/plain": [
       "[-5.407357449065413]"
      ]
     },
     "execution_count": 14,
     "metadata": {},
     "output_type": "execute_result"
    }
   ],
   "source": [
    "p = oneLayerMLP(10,\"cos\")\n",
    "X = np.array([[1,2,3],[4,5,6],[7,8,9],[1,2,3],[4,6,6],[7,8,9] ,[1,2,3],[4,7,6],[7,8,9]   ])\n",
    "t = np.array([[0,1],[0,1],[1,0],[0,1],[0,1],[1,0],[0,1],[0,1],[1,0],])\n",
    "p.train(X,t,0.1,0.001,3,2,1)\n",
    "p.costs"
   ]
  },
  {
   "cell_type": "code",
   "execution_count": 15,
   "metadata": {},
   "outputs": [],
   "source": [
    "res = p.gradcheck_softmax()\n"
   ]
  },
  {
   "cell_type": "code",
   "execution_count": 19,
   "metadata": {},
   "outputs": [],
   "source": [
    "X_train, X_test, y_train, y_test = load_data()\n",
    "X_train = X_train.astype(float)/255\n",
    "X_test = X_test.astype(float)/255"
   ]
  },
  {
   "cell_type": "code",
   "execution_count": 28,
   "metadata": {
    "scrolled": true
   },
   "outputs": [],
   "source": [
    "p = oneLayerMLP(200,\"tanh\")\n",
    "X = X_train\n",
    "t =y_train\n",
    "p.train(X,t,0.1,0.001,200,10,20)\n"
   ]
  },
  {
   "cell_type": "code",
   "execution_count": 29,
   "metadata": {},
   "outputs": [
    {
     "data": {
      "text/plain": [
       "[-275.3349161568674,\n",
       " -165.9352843751199,\n",
       " -116.97552200783475,\n",
       " -95.1927983876926,\n",
       " -80.8136538581284,\n",
       " -76.10773852503677,\n",
       " -77.54116953075827,\n",
       " -76.6699208531895,\n",
       " -73.33126050422004,\n",
       " -69.96731453033057,\n",
       " -66.38705916053249,\n",
       " -62.315192534935974,\n",
       " -58.179950180719935,\n",
       " -54.387042077534026,\n",
       " -52.65625224196683,\n",
       " -50.2650763235407,\n",
       " -48.16099974899589,\n",
       " -46.479534997949465,\n",
       " -45.31242266874721,\n",
       " -43.37000618654126]"
      ]
     },
     "execution_count": 29,
     "metadata": {},
     "output_type": "execute_result"
    }
   ],
   "source": [
    "p.costs"
   ]
  },
  {
   "cell_type": "code",
   "execution_count": 30,
   "metadata": {},
   "outputs": [],
   "source": [
    "_ , pred = p.predict(X_test,addBias=True)"
   ]
  },
  {
   "cell_type": "code",
   "execution_count": 31,
   "metadata": {},
   "outputs": [
    {
     "data": {
      "text/plain": [
       "0.3597"
      ]
     },
     "execution_count": 31,
     "metadata": {},
     "output_type": "execute_result"
    }
   ],
   "source": [
    "np.mean( np.argmax(pred,1) == np.argmax(y_test,1) )"
   ]
  },
  {
   "cell_type": "code",
   "execution_count": 238,
   "metadata": {},
   "outputs": [
    {
     "name": "stderr",
     "output_type": "stream",
     "text": [
      "<ipython-input-238-ec6a204a4295>:12: MatplotlibDeprecationWarning: Adding an axes using the same arguments as a previous axes currently reuses the earlier instance.  In a future version, a new instance will always be created and returned.  Meanwhile, this warning can be suppressed, and the future behavior ensured, by passing a unique label to each axes instance.\n",
      "  plt.subplot( sqrt_n, sqrt_n, cnt ).axis('off')\n"
     ]
    },
    {
     "data": {
      "image/png": "[encoded data removed]",
      "text/plain": [
       "<Figure size 792x792 with 4 Axes>"
      ]
     },
     "metadata": {
      "needs_background": "light"
     },
     "output_type": "display_data"
    }
   ],
   "source": [
    "# plot 5 random images from the training set\n",
    "n = 5\n",
    "sqrt_n = int( n**0.5 )\n",
    "samples = np.random.randint(X_train.shape[0], size=n)\n",
    "samples = [5000,5001,5002,5003]\n",
    "plt.figure( figsize=(11,11) )\n",
    "\n",
    "cnt = 0\n",
    "for i in samples:\n",
    "    cnt += 1\n",
    "    plt.subplot( sqrt_n, sqrt_n, cnt )\n",
    "    plt.subplot( sqrt_n, sqrt_n, cnt ).axis('off')\n",
    "    plt.imshow( X_test[i].reshape(28,28), cmap='gray'  )\n",
    "\n",
    "plt.show()"
   ]
  }
 ],
 "metadata": {
  "kernelspec": {
   "display_name": "Python 3",
   "language": "python",
   "name": "python3"
  },
  "language_info": {
   "codemirror_mode": {
    "name": "ipython",
    "version": 3
   },
   "file_extension": ".py",
   "mimetype": "text/x-python",
   "name": "python",
   "nbconvert_exporter": "python",
   "pygments_lexer": "ipython3",
   "version": "3.8.3"
  }
 },
 "nbformat": 4,
 "nbformat_minor": 4
}
